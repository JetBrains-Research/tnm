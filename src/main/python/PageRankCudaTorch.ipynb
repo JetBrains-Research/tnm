{
 "cells": [
  {
   "cell_type": "code",
   "execution_count": 1,
   "metadata": {},
   "outputs": [],
   "source": [
    "import json\n",
    "import numpy as np\n",
    "from numpy import linalg as LA\n",
    "import torch\n",
    "def load_json(filename):\n",
    "    with open(f\"{filename}\", 'r') as fp:\n",
    "        data = json.load(fp)\n",
    "    return data\n",
    "def save_to_json(data, filename):\n",
    "    with open(f\"{filename}\", 'w') as fp:\n",
    "        json.dump(data, fp)"
   ]
  },
  {
   "cell_type": "code",
   "execution_count": 2,
   "metadata": {},
   "outputs": [
    {
     "name": "stdout",
     "output_type": "stream",
     "text": [
      "Cuda available\n"
     ]
    }
   ],
   "source": [
    "if torch.cuda.is_available():  \n",
    "    print(\"Cuda available\")\n",
    "    dev = \"cuda:0\" \n",
    "else:  \n",
    "    dev = \"cpu\"  \n",
    "device = torch.device(dev)  \n",
    "a = torch.zeros(4,3)    \n",
    "a = a.to(device)"
   ]
  },
  {
   "cell_type": "code",
   "execution_count": 3,
   "metadata": {},
   "outputs": [],
   "source": [
    "resources = '/home/nikolaisv/study/intership/work/technical-connections/resources/'\n",
    "idToCommit = load_json(f\"{resources}/idToCommit\")\n",
    "size = len(idToCommit)\n",
    "shape = (size, size)\n",
    "concurrentGraph = load_json(f\"{resources}/concurrentGraph\")\n",
    "alpha = 0.85"
   ]
  },
  {
   "cell_type": "code",
   "execution_count": 4,
   "metadata": {},
   "outputs": [],
   "source": [
    "H = torch.zeros(shape)\n",
    "A = torch.full(shape, 1 / size)\n",
    "O = torch.ones(shape)\n",
    "\n",
    "H.to(device)\n",
    "A.to(device)\n",
    "O.to(device)\n",
    "\n",
    "for key, value in concurrentGraph.items():\n",
    "    k = int(key)\n",
    "    for adjCommit in value:\n",
    "        commit = int(adjCommit)\n",
    "        H[k][commit] = 1\n",
    "    if len(value) != 0:\n",
    "        A[:, k] = 0"
   ]
  },
  {
   "cell_type": "code",
   "execution_count": 5,
   "metadata": {},
   "outputs": [
    {
     "data": {
      "text/plain": [
       "tensor([[7.3298e-05, 7.3298e-05, 1.0995e-05,  ..., 7.3298e-05, 1.0995e-05,\n",
       "         7.3298e-05],\n",
       "        [7.3298e-05, 7.3298e-05, 1.0995e-05,  ..., 7.3298e-05, 1.0995e-05,\n",
       "         7.3298e-05],\n",
       "        [7.3298e-05, 8.5007e-01, 1.0995e-05,  ..., 7.3298e-05, 1.0995e-05,\n",
       "         7.3298e-05],\n",
       "        ...,\n",
       "        [7.3298e-05, 7.3298e-05, 1.0995e-05,  ..., 7.3298e-05, 1.0995e-05,\n",
       "         7.3298e-05],\n",
       "        [7.3298e-05, 7.3298e-05, 1.0995e-05,  ..., 7.3298e-05, 1.0995e-05,\n",
       "         7.3298e-05],\n",
       "        [7.3298e-05, 7.3298e-05, 1.0995e-05,  ..., 7.3298e-05, 1.0995e-05,\n",
       "         7.3298e-05]], device='cuda:0')"
      ]
     },
     "execution_count": 5,
     "metadata": {},
     "output_type": "execute_result"
    }
   ],
   "source": [
    "G = alpha * H + alpha * A + (1 - alpha) * (1 / size) * O\n",
    "G.to(device)"
   ]
  },
  {
   "cell_type": "code",
   "execution_count": 6,
   "metadata": {},
   "outputs": [
    {
     "data": {
      "text/plain": [
       "(tensor(0.8501), torch.float32)"
      ]
     },
     "execution_count": 6,
     "metadata": {},
     "output_type": "execute_result"
    }
   ],
   "source": [
    "G.max(), G.dtype"
   ]
  },
  {
   "cell_type": "code",
   "execution_count": 7,
   "metadata": {},
   "outputs": [],
   "source": [
    "I = torch.zeros((G.shape[0], 1), dtype=torch.float32)\n",
    "I[0][0] = 1\n",
    "I.to(device)\n",
    "for _ in range(100):\n",
    "    I = G @ I"
   ]
  },
  {
   "cell_type": "code",
   "execution_count": 8,
   "metadata": {},
   "outputs": [
    {
     "data": {
      "text/plain": [
       "tensor([[0.0007],\n",
       "        [0.0007],\n",
       "        [0.0011],\n",
       "        ...,\n",
       "        [0.0007],\n",
       "        [0.0011],\n",
       "        [0.0007]])"
      ]
     },
     "execution_count": 8,
     "metadata": {},
     "output_type": "execute_result"
    }
   ],
   "source": [
    "result = I / I.max()\n",
    "result"
   ]
  },
  {
   "cell_type": "code",
   "execution_count": 10,
   "metadata": {},
   "outputs": [],
   "source": [
    "save_to_json(result.tolist(), f\"{resources}/commitsIncome\")"
   ]
  },
  {
   "cell_type": "code",
   "execution_count": 53,
   "metadata": {},
   "outputs": [],
   "source": [
    "from pyvis.network import Network\n",
    "class Graph:\n",
    "    \"\"\"\n",
    "    Class for creating file congruence graph.\n",
    "    Nodes representing users. Edge exists between nodes if users got common changed files. Edge color and width depends\n",
    "    on number of common files between users.\n",
    "    \"\"\"\n",
    "\n",
    "    def __init__(self, M, node_size, mult=1, heading=\"Graph\"):\n",
    "        self.M = M\n",
    "        self.mult = mult\n",
    "        self.node_size = node_size\n",
    "\n",
    "        self.__init_net(heading)\n",
    "\n",
    "\n",
    "    def __init_net(self, heading):\n",
    "        \"\"\"\n",
    "        Create net-graph\n",
    "        :param heading: heading\n",
    "        \"\"\"\n",
    "        self.net = Network(heading=heading\n",
    "                           , height=\"1080px\"\n",
    "                           , width=\"100%\"\n",
    "                           , bgcolor=\"#222222\"\n",
    "                           , font_color=\"white\")\n",
    "\n",
    "        \n",
    "        self.net.barnes_hut()\n",
    "\n",
    "        n=0\n",
    "        non_zeros = torch.nonzero(self.M.view(-1).data).squeeze()\n",
    "        non_zeros = torch.nonzero(self.M.view(-1).data).squeeze()\n",
    "        _I = non_zeros // self.M.shape[0]\n",
    "        _J = non_zeros % self.M.shape[0]\n",
    "        \n",
    "        for i,j in zip(_I, _J):\n",
    "\n",
    "            weight = self.M[i][j]\n",
    "            print(f\"{i} {j} = {weight}\")\n",
    "            if weight == 0:\n",
    "                continue\n",
    "            src = str(i.item())\n",
    "            dst = str(j.item())\n",
    "\n",
    "#                 print(f\"{src} -> {dst} = {weight}\")\n",
    "            self.net.add_node(src, src, title=src, color=\"red\", size=self.node_size[i].item()*10000)\n",
    "            self.net.add_node(dst, dst, title=dst, color=\"blue\", size=self.node_size[j].item()*10000)\n",
    "            self.net.add_edge(src, dst, value=int(weight), color=\"yellow\")\n",
    "            n+=1\n",
    "            if n > 100:\n",
    "                break\n",
    "\n",
    "\n",
    "\n",
    "    def show(self):\n",
    "        print(f\"{self.net.heading}.html\")\n",
    "        self.net.show(f\"{self.net.heading}.html\")\n",
    "\n",
    "\n",
    "    @staticmethod\n",
    "    def edge_color(weight, quantile1, quantile2, quantile3):\n",
    "        if weight <= quantile1:\n",
    "            return '#0569E1'\n",
    "        if weight <= quantile2:\n",
    "            return '#C1F823'\n",
    "        if weight <= quantile3:\n",
    "            return '#FCAA05'\n",
    "        return '#EE5503'"
   ]
  },
  {
   "cell_type": "code",
   "execution_count": 20,
   "metadata": {},
   "outputs": [],
   "source": [
    "non_zeros = torch.nonzero(H.view(-1).data).squeeze()"
   ]
  },
  {
   "cell_type": "code",
   "execution_count": 28,
   "metadata": {},
   "outputs": [
    {
     "data": {
      "text/plain": [
       "(tensor(2), tensor(1))"
      ]
     },
     "execution_count": 28,
     "metadata": {},
     "output_type": "execute_result"
    }
   ],
   "source": [
    "non_zeros[0] // H.shape[0], non_zeros[0] % H.shape[0]"
   ]
  },
  {
   "cell_type": "code",
   "execution_count": 27,
   "metadata": {},
   "outputs": [
    {
     "data": {
      "text/plain": [
       "tensor(1.)"
      ]
     },
     "execution_count": 27,
     "metadata": {},
     "output_type": "execute_result"
    }
   ],
   "source": [
    "H[2][1]"
   ]
  },
  {
   "cell_type": "code",
   "execution_count": 44,
   "metadata": {},
   "outputs": [
    {
     "data": {
      "text/plain": [
       "tensor(9.0672e-05)"
      ]
     },
     "execution_count": 44,
     "metadata": {},
     "output_type": "execute_result"
    }
   ],
   "source": [
    "H.mean()"
   ]
  },
  {
   "cell_type": "code",
   "execution_count": 54,
   "metadata": {},
   "outputs": [
    {
     "name": "stdout",
     "output_type": "stream",
     "text": [
      "2 1 = 1.0\n",
      "3 1 = 1.0\n",
      "4 1 = 1.0\n",
      "6 1 = 1.0\n",
      "10 1 = 1.0\n",
      "10 8 = 1.0\n",
      "20 1 = 1.0\n",
      "23 1 = 1.0\n",
      "26 1 = 1.0\n",
      "26 25 = 1.0\n",
      "28 1 = 1.0\n",
      "28 26 = 1.0\n",
      "28 27 = 1.0\n",
      "34 1 = 1.0\n",
      "47 1 = 1.0\n",
      "47 46 = 1.0\n",
      "54 1 = 1.0\n",
      "54 52 = 1.0\n",
      "72 1 = 1.0\n",
      "76 1 = 1.0\n",
      "76 42 = 1.0\n",
      "90 49 = 1.0\n",
      "90 89 = 1.0\n",
      "97 1 = 1.0\n",
      "134 132 = 1.0\n",
      "155 1 = 1.0\n",
      "172 140 = 1.0\n",
      "172 143 = 1.0\n",
      "172 152 = 1.0\n",
      "174 1 = 1.0\n",
      "180 179 = 1.0\n",
      "184 162 = 1.0\n",
      "192 191 = 1.0\n",
      "195 191 = 1.0\n",
      "203 1 = 1.0\n",
      "203 73 = 1.0\n",
      "203 141 = 1.0\n",
      "203 163 = 1.0\n",
      "203 201 = 1.0\n",
      "219 1 = 1.0\n",
      "223 177 = 1.0\n",
      "224 213 = 1.0\n",
      "224 223 = 1.0\n",
      "225 177 = 1.0\n",
      "225 224 = 1.0\n",
      "245 1 = 1.0\n",
      "245 244 = 1.0\n",
      "246 1 = 1.0\n",
      "254 1 = 1.0\n",
      "254 140 = 1.0\n",
      "254 142 = 1.0\n",
      "254 143 = 1.0\n",
      "254 145 = 1.0\n",
      "254 172 = 1.0\n",
      "254 176 = 1.0\n",
      "254 216 = 1.0\n",
      "256 188 = 1.0\n",
      "261 1 = 1.0\n",
      "263 1 = 1.0\n",
      "263 140 = 1.0\n",
      "263 179 = 1.0\n",
      "263 251 = 1.0\n",
      "263 254 = 1.0\n",
      "264 1 = 1.0\n",
      "264 261 = 1.0\n",
      "264 263 = 1.0\n",
      "265 1 = 1.0\n",
      "265 140 = 1.0\n",
      "265 179 = 1.0\n",
      "265 251 = 1.0\n",
      "265 254 = 1.0\n",
      "271 242 = 1.0\n",
      "271 270 = 1.0\n",
      "290 284 = 1.0\n",
      "291 1 = 1.0\n",
      "291 289 = 1.0\n",
      "295 153 = 1.0\n",
      "295 212 = 1.0\n",
      "295 289 = 1.0\n",
      "312 306 = 1.0\n",
      "325 286 = 1.0\n",
      "331 1 = 1.0\n",
      "331 254 = 1.0\n",
      "331 330 = 1.0\n",
      "344 343 = 1.0\n",
      "346 299 = 1.0\n",
      "347 188 = 1.0\n",
      "349 348 = 1.0\n",
      "365 316 = 1.0\n",
      "395 289 = 1.0\n",
      "434 423 = 1.0\n",
      "434 426 = 1.0\n",
      "434 428 = 1.0\n",
      "436 423 = 1.0\n",
      "436 424 = 1.0\n",
      "440 416 = 1.0\n",
      "446 444 = 1.0\n",
      "462 1 = 1.0\n",
      "462 263 = 1.0\n",
      "462 301 = 1.0\n",
      "464 385 = 1.0\n",
      "PageRank.html\n"
     ]
    }
   ],
   "source": [
    "graph = Graph(H, result, heading=\"PageRank\")\n",
    "graph.show()"
   ]
  },
  {
   "cell_type": "code",
   "execution_count": 140,
   "metadata": {},
   "outputs": [],
   "source": [
    "test_H = torch.tensor(\n",
    "    [\n",
    "    [ 0, 0, 0, 0, 0, 0, 1/3, 0 ],\n",
    "    [ 1/2, 0, 1/2, 1/3, 0, 0, 0, 0 ],\n",
    "    [ 1/2, 0, 0, 0, 0, 0, 0, 0 ],\n",
    "    [ 0, 1, 0, 0, 0, 0, 0, 0 ],\n",
    "    [ 0, 0, 1/2, 1/3, 0, 0, 1/3, 0 ],\n",
    "    [ 0, 0, 0, 1/3, 1/3, 0, 0, 1/2 ],\n",
    "    [ 0, 0, 0, 0, 1/3, 0, 0, 1/2 ],\n",
    "    [ 0, 0, 0, 0, 1/3, 1, 1/3, 0 ]\n",
    "    ],dtype=torch.float64, device=device\n",
    ")"
   ]
  },
  {
   "cell_type": "code",
   "execution_count": 152,
   "metadata": {},
   "outputs": [
    {
     "data": {
      "text/plain": [
       "tensor([[0.0600],\n",
       "        [0.0675],\n",
       "        [0.0300],\n",
       "        [0.0675],\n",
       "        [0.0975],\n",
       "        [0.2025],\n",
       "        [0.1800],\n",
       "        [0.2950]], device='cuda:0', dtype=torch.float64)"
      ]
     },
     "execution_count": 152,
     "metadata": {},
     "output_type": "execute_result"
    }
   ],
   "source": [
    "# I = torch.tensor([1,0,0,0,0,0,0,0], dtype=torch.float64, device=device)\n",
    "I = torch.tensor([[1],[0],[0],[0],[0],[0],[0],[0]], dtype=torch.double, device=device)\n",
    "for i in range(61):\n",
    "    I = test_H @ I\n",
    "#     print(f\"itteration {i}\")\n",
    "I"
   ]
  }
 ],
 "metadata": {
  "kernelspec": {
   "display_name": "firstEnv",
   "language": "python",
   "name": "firstenv"
  },
  "language_info": {
   "codemirror_mode": {
    "name": "ipython",
    "version": 3
   },
   "file_extension": ".py",
   "mimetype": "text/x-python",
   "name": "python",
   "nbconvert_exporter": "python",
   "pygments_lexer": "ipython3",
   "version": "3.8.3"
  }
 },
 "nbformat": 4,
 "nbformat_minor": 4
}
