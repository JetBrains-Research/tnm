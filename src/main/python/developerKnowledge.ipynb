{
 "cells": [
  {
   "cell_type": "code",
   "execution_count": 39,
   "metadata": {},
   "outputs": [],
   "source": [
    "import json\n",
    "import numpy as np\n",
    "class Graph:\n",
    "    \"\"\"\n",
    "    Class for creating file congruence graph.\n",
    "    Nodes representing users. Edge exists between nodes if users got common changed files. Edge color and width depends\n",
    "    on number of common files between users.\n",
    "    \"\"\"\n",
    "\n",
    "    def __init__(self, M, mult=1, heading=\"Graph\"):\n",
    "        self.M = M\n",
    "        self.user_to_id = load_json(f\"{resources}/userToId\")\n",
    "        self.id_to_user = {v: k for k, v in self.user_to_id.items()}\n",
    "        self.mult = mult\n",
    "\n",
    "        self.__init_net(heading)\n",
    "\n",
    "    def __gen_quantiles(self):\n",
    "        \"\"\"\n",
    "        Generate quantiles (0.25, 0.5, 0.75) for non null values\n",
    "        \"\"\"\n",
    "        non_null_values = self.M[self.M != 0]\n",
    "        self.quantiles = [\n",
    "            np.quantile(non_null_values, 0.25)\n",
    "            , np.quantile(non_null_values, 0.5)\n",
    "            , np.quantile(non_null_values, 0.75)\n",
    "        ]\n",
    "        print(self.quantiles)\n",
    "\n",
    "    def __init_net(self, heading):\n",
    "        \"\"\"\n",
    "        Create net-graph\n",
    "        :param heading: heading\n",
    "        \"\"\"\n",
    "        self.net = Network(heading=heading\n",
    "                           , height=\"1080px\"\n",
    "                           , width=\"100%\"\n",
    "                           , bgcolor=\"#222222\"\n",
    "                           , font_color=\"white\")\n",
    "\n",
    "        self.__gen_quantiles()\n",
    "\n",
    "        self.net.barnes_hut()\n",
    "\n",
    "        for userId in range(M.shape[0]):\n",
    "            for fileId in range(M.shape[1]):\n",
    "\n",
    "                weight = self.M[userId, fileId] * self.mult\n",
    "                if weight == 0:\n",
    "                    continue\n",
    "                src = self.id_to_user[userId]\n",
    "                dst = str(fileId)\n",
    "\n",
    "#                 print(f\"{src} -> {dst} = {weight}\")\n",
    "                self.net.add_node(src, src, title=src)\n",
    "                self.net.add_node(dst, dst, title=dst, color=\"red\")\n",
    "                self.net.add_edge(src, dst, value=weight, color=self.edge_color(self.M[userId, fileId], *self.quantiles))\n",
    "\n",
    "#         neighbor_map = self.net.get_adj_list()\n",
    "\n",
    "#         for node in self.net.nodes:\n",
    "#             node[\"title\"] += \" Neighbors:<br>\" + \"<br>\".join(self.__pretty_string_neighbors(node, neighbor_map))\n",
    "#             node[\"value\"] = len(neighbor_map[node[\"id\"]])\n",
    "\n",
    "    def __get_num_of_files_with_neighbor(self, user, neighbor):\n",
    "        \"\"\"\n",
    "        Map function. Get number of common files with neighbor for user.\n",
    "        :param user: user login\n",
    "        :param neighbor: neighbor login\n",
    "        :return: tuple (neighbor login, number of common files with neighbor)\n",
    "        \"\"\"\n",
    "        num_of_files = self.M[self.user_to_id[user], self.user_to_id[neighbor]]\n",
    "        return neighbor, num_of_files\n",
    "\n",
    "    def __pretty_string_neighbors(self, node, neighbor_map):\n",
    "        \"\"\"\n",
    "        Create string for better visualization.\n",
    "        :param node: current node\n",
    "        :param neighbor_map: neighbors for each node\n",
    "        :return: string of neighbors and number of common files\n",
    "        \"\"\"\n",
    "        result = map(lambda neighbor: self.__get_num_of_files_with_neighbor(node[\"title\"], neighbor)\n",
    "                     , neighbor_map[node[\"id\"]])\n",
    "        result = sorted(result, key=lambda x: x[1], reverse=True)\n",
    "        result = map(lambda x: f\"{x[0]} : {x[1]}\", result)\n",
    "        return result\n",
    "\n",
    "    def show(self):\n",
    "        print(f\"{work_dir}/{self.net.heading}.html\")\n",
    "        self.net.show(f\"{work_dir}/{self.net.heading}.html\")\n",
    "\n",
    "\n",
    "    @staticmethod\n",
    "    def edge_color(weight, quantile1, quantile2, quantile3):\n",
    "        if weight <= quantile1:\n",
    "            return '#0569E1'\n",
    "        if weight <= quantile2:\n",
    "            return '#C1F823'\n",
    "        if weight <= quantile3:\n",
    "            return '#FCAA05'\n",
    "        return '#EE5503'"
   ]
  },
  {
   "cell_type": "code",
   "execution_count": 2,
   "metadata": {},
   "outputs": [],
   "source": [
    "def load_json(filename):\n",
    "    with open(f\"{filename}\", 'r') as fp:\n",
    "        data = json.load(fp)\n",
    "    return data\n",
    "def print_(M):\n",
    "    print(f\"min={M.min()}, mean={M.mean()}, max={M.max()}, shape={M.shape}\")"
   ]
  },
  {
   "cell_type": "code",
   "execution_count": 12,
   "metadata": {},
   "outputs": [],
   "source": [
    "resources = '/home/nikolaisv/study/intership/Analysis-of-Socio-Technical-Congruence/resources'\n",
    "numFiles = len(load_json(f\"{resources}/fileToId\"))\n",
    "numUsers = len(load_json(f\"{resources}/idToUser\"))\n",
    "DK = load_json(f\"{resources}/developerKnowledge\")\n",
    "\n"
   ]
  },
  {
   "cell_type": "code",
   "execution_count": 17,
   "metadata": {},
   "outputs": [
    {
     "data": {
      "text/plain": [
       "<function dict.keys>"
      ]
     },
     "execution_count": 17,
     "metadata": {},
     "output_type": "execute_result"
    }
   ],
   "source": [
    "DK.keys\n"
   ]
  },
  {
   "cell_type": "code",
   "execution_count": 19,
   "metadata": {},
   "outputs": [],
   "source": [
    "shape = (numUsers, numFiles)\n",
    "M = np.zeros(shape)\n",
    "for userId in DK.keys():\n",
    "    for fileId in DK[userId].keys():\n",
    "        M[int(userId)][int(fileId)] = DK[userId][fileId]"
   ]
  },
  {
   "cell_type": "code",
   "execution_count": 21,
   "metadata": {},
   "outputs": [
    {
     "data": {
      "text/plain": [
       "0.00011315164301947896"
      ]
     },
     "execution_count": 21,
     "metadata": {},
     "output_type": "execute_result"
    }
   ],
   "source": []
  },
  {
   "cell_type": "code",
   "execution_count": 3,
   "metadata": {},
   "outputs": [],
   "source": [
    "from pyvis.network import Network\n",
    "work_dir = '/home/nikolaisv/study/intership/visualization/'"
   ]
  },
  {
   "cell_type": "code",
   "execution_count": 40,
   "metadata": {},
   "outputs": [
    {
     "name": "stdout",
     "output_type": "stream",
     "text": [
      "[0.020483518968303638, 0.054909025828380226, 0.2951991900837486]\n",
      "/home/nikolaisv/study/intership/visualization//developerKnowledge.html\n"
     ]
    }
   ],
   "source": [
    "_M = np.copy(M)\n",
    "_M[_M < 0.01] = 0\n",
    "graph = Graph(_M, heading=\"developerKnowledge\")\n",
    "graph.show()"
   ]
  }
 ],
 "metadata": {
  "kernelspec": {
   "display_name": "Python 3",
   "language": "python",
   "name": "python3"
  },
  "language_info": {
   "codemirror_mode": {
    "name": "ipython",
    "version": 3
   },
   "file_extension": ".py",
   "mimetype": "text/x-python",
   "name": "python",
   "nbconvert_exporter": "python",
   "pygments_lexer": "ipython3",
   "version": "3.8.6"
  }
 },
 "nbformat": 4,
 "nbformat_minor": 4
}
