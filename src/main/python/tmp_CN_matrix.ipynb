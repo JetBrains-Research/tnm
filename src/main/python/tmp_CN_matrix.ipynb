{
 "cells": [
  {
   "cell_type": "code",
   "execution_count": 7,
   "metadata": {},
   "outputs": [],
   "source": [
    "import json\n",
    "import numpy as np"
   ]
  },
  {
   "cell_type": "code",
   "execution_count": 3,
   "metadata": {},
   "outputs": [],
   "source": [
    "def load_json(filename):\n",
    "    with open(f\"{filename}\", 'r') as fp:\n",
    "        data = json.load(fp)\n",
    "    return data"
   ]
  },
  {
   "cell_type": "code",
   "execution_count": 9,
   "metadata": {},
   "outputs": [],
   "source": [
    "resources = '/home/nikolaisv/study/intership/Analysis-of-Socio-Technical-Congruence/resources'\n",
    "FDM = np.array(load_json(f\"{resources}/fileDependencyMatrix\"))\n",
    "UFI = load_json(f\"{resources}/userFilesIds\")"
   ]
  },
  {
   "cell_type": "code",
   "execution_count": 12,
   "metadata": {},
   "outputs": [
    {
     "data": {
      "text/plain": [
       "[25, 26]"
      ]
     },
     "execution_count": 12,
     "metadata": {},
     "output_type": "execute_result"
    }
   ],
   "source": [
    "UFI['1']"
   ]
  },
  {
   "cell_type": "code",
   "execution_count": 14,
   "metadata": {},
   "outputs": [
    {
     "data": {
      "text/plain": [
       "(7727, 7727)"
      ]
     },
     "execution_count": 14,
     "metadata": {},
     "output_type": "execute_result"
    }
   ],
   "source": [
    "FDM.shape"
   ]
  },
  {
   "cell_type": "code",
   "execution_count": 22,
   "metadata": {},
   "outputs": [
    {
     "data": {
      "text/plain": [
       "(1681, 7727)"
      ]
     },
     "execution_count": 22,
     "metadata": {},
     "output_type": "execute_result"
    }
   ],
   "source": [
    "shape = len(UFI.keys()), FDM.shape[1]\n",
    "shape"
   ]
  },
  {
   "cell_type": "code",
   "execution_count": 23,
   "metadata": {},
   "outputs": [],
   "source": [
    "UFI_arr = np.zeros(shape)\n",
    "for key, value in UFI.items():\n",
    "    for v in value:\n",
    "        UFI_arr[int(key)] = v"
   ]
  },
  {
   "cell_type": "code",
   "execution_count": 25,
   "metadata": {},
   "outputs": [],
   "source": [
    "FDM_filtered = FDM\n",
    "CN = UFI_arr @ FDM_filtered @ UFI_arr.T"
   ]
  },
  {
   "cell_type": "code",
   "execution_count": 26,
   "metadata": {},
   "outputs": [
    {
     "data": {
      "text/plain": [
       "(1681, 1681)"
      ]
     },
     "execution_count": 26,
     "metadata": {},
     "output_type": "execute_result"
    }
   ],
   "source": [
    "CN.shape"
   ]
  },
  {
   "cell_type": "code",
   "execution_count": 33,
   "metadata": {},
   "outputs": [],
   "source": [
    "def print_(M):\n",
    "    print(f\"{M.min()}, {M.mean()}, {M.max()}\")"
   ]
  },
  {
   "cell_type": "code",
   "execution_count": 34,
   "metadata": {},
   "outputs": [
    {
     "name": "stdout",
     "output_type": "stream",
     "text": [
      "0.0, 0.3006128425639428, 1.0\n"
     ]
    }
   ],
   "source": [
    "CN_n = CN / CN.max()\n",
    "print_(CN_n)"
   ]
  },
  {
   "cell_type": "code",
   "execution_count": 41,
   "metadata": {},
   "outputs": [],
   "source": [
    "from pyvis.network import Network\n",
    "work_dir = '/home/nikolaisv/study/intership/visualization/'"
   ]
  },
  {
   "cell_type": "code",
   "execution_count": 1,
   "metadata": {},
   "outputs": [],
   "source": [
    "class Graph:\n",
    "    \"\"\"\n",
    "    Class for creating file congruence graph.\n",
    "    Nodes representing users. Edge exists between nodes if users got common changed files. Edge color and width depends\n",
    "    on number of common files between users.\n",
    "    \"\"\"\n",
    "\n",
    "    def __init__(self, M, heading=\"Graph\"):\n",
    "        self.M = M\n",
    "        self.user_to_id = load_json(f\"{resources}/userToId\")\n",
    "        self.id_to_user = {v: k for k, v in self.user_to_id.items()}\n",
    "\n",
    "        self.__init_net(heading)\n",
    "\n",
    "    def __gen_quantiles(self):\n",
    "        \"\"\"\n",
    "        Generate quantiles (0.25, 0.5, 0.75) for non null values\n",
    "        \"\"\"\n",
    "        non_null_values = self.M[self.M != 0]\n",
    "        self.quantiles = [\n",
    "            np.quantile(non_null_values, 0.25)\n",
    "            , np.quantile(non_null_values, 0.5)\n",
    "            , np.quantile(non_null_values, 0.75)\n",
    "        ]\n",
    "\n",
    "    def __init_net(self, heading):\n",
    "        \"\"\"\n",
    "        Create net-graph\n",
    "        :param heading: heading\n",
    "        \"\"\"\n",
    "        self.net = Network(heading=heading\n",
    "                           , height=\"1080px\"\n",
    "                           , width=\"100%\"\n",
    "                           , bgcolor=\"#222222\"\n",
    "                           , font_color=\"white\")\n",
    "\n",
    "        self.__gen_quantiles()\n",
    "\n",
    "        self.net.barnes_hut()\n",
    "\n",
    "        size = self.M.shape[0]\n",
    "        for i in range(size):\n",
    "            for j in range(size):\n",
    "                if i == j:\n",
    "                    continue\n",
    "\n",
    "                weight = int(self.M[i, j])\n",
    "                if weight == 0:\n",
    "                    continue\n",
    "                src = self.id_to_user[i]\n",
    "                dst = self.id_to_user[j]\n",
    "\n",
    "                self.net.add_node(src, src, title=src)\n",
    "                self.net.add_node(dst, dst, title=dst)\n",
    "                self.net.add_edge(src, dst, value=weight, color=self.edge_color(weight, *self.quantiles))\n",
    "\n",
    "        neighbor_map = self.net.get_adj_list()\n",
    "\n",
    "        for node in self.net.nodes:\n",
    "            node[\"title\"] += \" Neighbors:<br>\" + \"<br>\".join(self.__pretty_string_neighbors(node, neighbor_map))\n",
    "            node[\"value\"] = len(neighbor_map[node[\"id\"]])\n",
    "\n",
    "    def __get_num_of_files_with_neighbor(self, user, neighbor):\n",
    "        \"\"\"\n",
    "        Map function. Get number of common files with neighbor for user.\n",
    "        :param user: user login\n",
    "        :param neighbor: neighbor login\n",
    "        :return: tuple (neighbor login, number of common files with neighbor)\n",
    "        \"\"\"\n",
    "        num_of_files = self.M[self.user_to_id[user], self.user_to_id[neighbor]]\n",
    "        return neighbor, num_of_files\n",
    "\n",
    "    def __pretty_string_neighbors(self, node, neighbor_map):\n",
    "        \"\"\"\n",
    "        Create string for better visualization.\n",
    "        :param node: current node\n",
    "        :param neighbor_map: neighbors for each node\n",
    "        :return: string of neighbors and number of common files\n",
    "        \"\"\"\n",
    "        result = map(lambda neighbor: self.__get_num_of_files_with_neighbor(node[\"title\"], neighbor)\n",
    "                     , neighbor_map[node[\"id\"]])\n",
    "        result = sorted(result, key=lambda x: x[1], reverse=True)\n",
    "        result = map(lambda x: f\"{x[0]} : {x[1]}\", result)\n",
    "        return result\n",
    "\n",
    "    def show(self):\n",
    "        self.net.show(f\"{work_dir}/{self.net.heading}.html\")\n",
    "\n",
    "    @staticmethod\n",
    "    def edge_color(weight, quantile1, quantile2, quantile3):\n",
    "        if weight <= quantile1:\n",
    "            return '#0569E1'\n",
    "        if weight <= quantile2:\n",
    "            return '#C1F823'\n",
    "        if weight <= quantile3:\n",
    "            return '#FCAA05'\n",
    "        return '#EE5503'"
   ]
  },
  {
   "cell_type": "code",
   "execution_count": 43,
   "metadata": {},
   "outputs": [],
   "source": [
    "graph = Graph(CN_n)\n",
    "graph.show()"
   ]
  }
 ],
 "metadata": {
  "kernelspec": {
   "display_name": "Python 3",
   "language": "python",
   "name": "python3"
  },
  "language_info": {
   "codemirror_mode": {
    "name": "ipython",
    "version": 3
   },
   "file_extension": ".py",
   "mimetype": "text/x-python",
   "name": "python",
   "nbconvert_exporter": "python",
   "pygments_lexer": "ipython3",
   "version": "3.8.6"
  }
 },
 "nbformat": 4,
 "nbformat_minor": 4
}
