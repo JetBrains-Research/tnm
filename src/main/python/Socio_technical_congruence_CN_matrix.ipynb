{
 "cells": [
  {
   "cell_type": "code",
   "execution_count": 1,
   "metadata": {},
   "outputs": [],
   "source": [
    "import json\n",
    "import numpy as np\n",
    "class Graph:\n",
    "    \"\"\"\n",
    "    Class for creating file congruence graph.\n",
    "    Nodes representing users. Edge exists between nodes if users got common changed files. Edge color and width depends\n",
    "    on number of common files between users.\n",
    "    \"\"\"\n",
    "\n",
    "    def __init__(self, M, mult=1, heading=\"Graph\"):\n",
    "        self.M = M\n",
    "        self.user_to_id = load_json(f\"{resources}/userToId\")\n",
    "        self.id_to_user = {v: k for k, v in self.user_to_id.items()}\n",
    "        self.mult = mult\n",
    "\n",
    "        self.__init_net(heading)\n",
    "\n",
    "    def __gen_quantiles(self):\n",
    "        \"\"\"\n",
    "        Generate quantiles (0.25, 0.5, 0.75) for non null values\n",
    "        \"\"\"\n",
    "        non_null_values = self.M[self.M != 0]\n",
    "        self.quantiles = [\n",
    "            np.quantile(non_null_values, 0.25)\n",
    "            , np.quantile(non_null_values, 0.5)\n",
    "            , np.quantile(non_null_values, 0.75)\n",
    "        ]\n",
    "        print(self.quantiles)\n",
    "\n",
    "    def __init_net(self, heading):\n",
    "        \"\"\"\n",
    "        Create net-graph\n",
    "        :param heading: heading\n",
    "        \"\"\"\n",
    "        self.net = Network(heading=heading\n",
    "                           , height=\"1080px\"\n",
    "                           , width=\"100%\"\n",
    "                           , bgcolor=\"#222222\"\n",
    "                           , font_color=\"white\")\n",
    "\n",
    "        self.__gen_quantiles()\n",
    "\n",
    "        self.net.barnes_hut()\n",
    "\n",
    "        size = self.M.shape[0]\n",
    "        for i in range(size):\n",
    "            for j in range(size):\n",
    "                if i == j:\n",
    "                    continue\n",
    "                    \n",
    "                \n",
    "\n",
    "                weight = int(self.M[i, j] * self.mult)\n",
    "                if weight == 0:\n",
    "                    continue\n",
    "                src = self.id_to_user[i]\n",
    "                dst = self.id_to_user[j]\n",
    "\n",
    "#                 print(f\"{src} -> {dst} = {weight}\")\n",
    "                self.net.add_node(src, src, title=src)\n",
    "                self.net.add_node(dst, dst, title=dst)\n",
    "                self.net.add_edge(src, dst, value=weight, color=self.edge_color(self.M[i, j], *self.quantiles))\n",
    "\n",
    "        neighbor_map = self.net.get_adj_list()\n",
    "\n",
    "        for node in self.net.nodes:\n",
    "            node[\"title\"] += \" Neighbors:<br>\" + \"<br>\".join(self.__pretty_string_neighbors(node, neighbor_map))\n",
    "            node[\"value\"] = len(neighbor_map[node[\"id\"]])\n",
    "\n",
    "    def __get_num_of_files_with_neighbor(self, user, neighbor):\n",
    "        \"\"\"\n",
    "        Map function. Get number of common files with neighbor for user.\n",
    "        :param user: user login\n",
    "        :param neighbor: neighbor login\n",
    "        :return: tuple (neighbor login, number of common files with neighbor)\n",
    "        \"\"\"\n",
    "        num_of_files = self.M[self.user_to_id[user], self.user_to_id[neighbor]]\n",
    "        return neighbor, num_of_files\n",
    "\n",
    "    def __pretty_string_neighbors(self, node, neighbor_map):\n",
    "        \"\"\"\n",
    "        Create string for better visualization.\n",
    "        :param node: current node\n",
    "        :param neighbor_map: neighbors for each node\n",
    "        :return: string of neighbors and number of common files\n",
    "        \"\"\"\n",
    "        result = map(lambda neighbor: self.__get_num_of_files_with_neighbor(node[\"title\"], neighbor)\n",
    "                     , neighbor_map[node[\"id\"]])\n",
    "        result = sorted(result, key=lambda x: x[1], reverse=True)\n",
    "        result = map(lambda x: f\"{x[0]} : {x[1]}\", result)\n",
    "        return result\n",
    "\n",
    "    def show(self):\n",
    "        self.net.show(f\"{work_dir}/{self.net.heading}.html\")\n",
    "\n",
    "    @staticmethod\n",
    "    def edge_color(weight, quantile1, quantile2, quantile3):\n",
    "        if weight <= quantile1:\n",
    "            return '#0569E1'\n",
    "        if weight <= quantile2:\n",
    "            return '#C1F823'\n",
    "        if weight <= quantile3:\n",
    "            return '#FCAA05'\n",
    "        return '#EE5503'"
   ]
  },
  {
   "cell_type": "code",
   "execution_count": 3,
   "metadata": {},
   "outputs": [],
   "source": [
    "def load_json(filename):\n",
    "    with open(f\"{filename}\", 'r') as fp:\n",
    "        data = json.load(fp)\n",
    "    return data\n",
    "def print_(M):\n",
    "    print(f\"min={M.min()}, mean={M.mean()}, max={M.max()}, shape={M.shape}\")"
   ]
  },
  {
   "cell_type": "code",
   "execution_count": 4,
   "metadata": {},
   "outputs": [],
   "source": [
    "resources = '/home/nikolaisv/study/intership/Analysis-of-Socio-Technical-Congruence/resources'\n",
    "FDM = np.array(load_json(f\"{resources}/fileDependencyMatrix\"))\n",
    "UFI = load_json(f\"{resources}/userFilesIds\")\n",
    "AM = np.array(load_json(f\"{resources}/assignmentMatrix\"))"
   ]
  },
  {
   "cell_type": "code",
   "execution_count": 14,
   "metadata": {},
   "outputs": [
    {
     "name": "stdout",
     "output_type": "stream",
     "text": [
      "min=11, mean=54.058465764175004, max=343, shape=(5097,)\n"
     ]
    }
   ],
   "source": [
    "print_(AM[AM > 10])"
   ]
  },
  {
   "cell_type": "code",
   "execution_count": 11,
   "metadata": {},
   "outputs": [
    {
     "name": "stdout",
     "output_type": "stream",
     "text": [
      "[8.0, 13.0, 29.0]\n"
     ]
    }
   ],
   "source": [
    "non_null_values = AM[AM > 5]\n",
    "quantiles = [\n",
    "    np.quantile(non_null_values, 0.25)\n",
    "    , np.quantile(non_null_values, 0.5)\n",
    "    , np.quantile(non_null_values, 0.75)\n",
    "]\n",
    "print(quantiles)"
   ]
  },
  {
   "cell_type": "code",
   "execution_count": 4,
   "metadata": {},
   "outputs": [],
   "source": [
    "AM_ = np.copy(AM)\n",
    "threshold = 3\n",
    "AM_[AM_ < threshold] = 0\n",
    "AM_[AM_ >= threshold] = 1\n"
   ]
  },
  {
   "cell_type": "code",
   "execution_count": null,
   "metadata": {},
   "outputs": [],
   "source": [
    "CN = AM_ @ FDM @ AM_.T"
   ]
  },
  {
   "cell_type": "code",
   "execution_count": 5,
   "metadata": {},
   "outputs": [
    {
     "name": "stdout",
     "output_type": "stream",
     "text": [
      "min=0.0, mean=1.2778480925383054e-05, max=1.0, shape=(1681, 1681)\n"
     ]
    }
   ],
   "source": [
    "CN_n = CN / CN.max()\n",
    "print_(CN_n)"
   ]
  },
  {
   "cell_type": "code",
   "execution_count": 9,
   "metadata": {},
   "outputs": [],
   "source": [
    "from pyvis.network import Network\n",
    "work_dir = '/home/nikolaisv/study/intership/visualization/'"
   ]
  },
  {
   "cell_type": "code",
   "execution_count": 7,
   "metadata": {},
   "outputs": [],
   "source": [
    "# CN_n[CN_n < 0.5] = 0\n",
    "CN_ = np.copy(CN_n)\n",
    "CN_[CN_ < 0.01] = 0\n",
    "mult = 100\n",
    "# graph = Graph(CN_, mult)\n",
    "# graph.show()"
   ]
  },
  {
   "cell_type": "code",
   "execution_count": 6,
   "metadata": {},
   "outputs": [],
   "source": [
    "import json\n",
    "import numpy as np\n",
    "class GraphGaps:\n",
    "    \"\"\"\n",
    "    Class for creating file congruence graph.\n",
    "    Nodes representing users. Edge exists between nodes if users got common changed files. Edge color and width depends\n",
    "    on number of common files between users.\n",
    "    \"\"\"\n",
    "\n",
    "    def __init__(self, D, A,  mult=1, heading=\"Graph\"):\n",
    "        self.D = D\n",
    "        self.user_to_id = load_json(f\"{resources}/userToId\")\n",
    "        self.id_to_user = {v: k for k, v in self.user_to_id.items()}\n",
    "        self.Dult = mult\n",
    "        self.A = A\n",
    "\n",
    "        self.__init_net(heading)\n",
    "\n",
    "    def __gen_quantiles(self):\n",
    "        \"\"\"\n",
    "        Generate quantiles (0.25, 0.5, 0.75) for non null values\n",
    "        \"\"\"\n",
    "        non_null_values = self.D[self.D != 0]\n",
    "        self.quantiles = [\n",
    "            np.quantile(non_null_values, 0.25)\n",
    "            , np.quantile(non_null_values, 0.5)\n",
    "            , np.quantile(non_null_values, 0.75)\n",
    "        ]\n",
    "        print(self.quantiles)\n",
    "\n",
    "    def __init_net(self, heading):\n",
    "        \"\"\"\n",
    "        Create net-graph\n",
    "        :param heading: heading\n",
    "        \"\"\"\n",
    "        self.net = Network(heading=heading\n",
    "                           , height=\"1080px\"\n",
    "                           , width=\"100%\"\n",
    "                           , bgcolor=\"#222222\"\n",
    "                           , font_color=\"white\")\n",
    "\n",
    "        self.__gen_quantiles()\n",
    "\n",
    "        self.net.barnes_hut()\n",
    "\n",
    "        files = set()\n",
    "        size = self.D.shape[0]\n",
    "        for i in range(size):\n",
    "            for j in range(size):\n",
    "                if i == j:\n",
    "                    continue\n",
    "                    \n",
    "                \n",
    "\n",
    "                weight = int(self.D[i, j] * self.Dult)\n",
    "                if weight == 0:\n",
    "                    continue\n",
    "                src = f\"file{i}\"\n",
    "                dst = f\"file{j}\"\n",
    "                files.add(src)\n",
    "                files.add(dst)\n",
    "#                 print(f\"{src} -> {dst} = {weight}\")\n",
    "                self.net.add_node(src, src, title=src, color=\"red\")\n",
    "                self.net.add_node(dst, dst, title=dst, color=\"red\")\n",
    "                self.net.add_edge(src, dst, value=weight, color=self.edge_color(self.D[i, j], *self.quantiles))\n",
    "\n",
    "#         for i in range(self.A.shape[0]):\n",
    "#             for j in range(self.A.shape[1]):\n",
    "#                 file_name = f\"file{j}\"\n",
    "#                 if self.A[i, j] == 0:\n",
    "#                     continue\n",
    "#                 if file_name in files:\n",
    "#                     node_name = f\"user{i}\"\n",
    "#                     self.net.add_node(node_name, node_name, title=src, color=\"green\")\n",
    "#                     self.net.add_edge(node_name, file_name, value=5, color=\"green\")\n",
    "#         neighbor_map = self.net.get_adj_list()\n",
    "\n",
    "#         for node in self.net.nodes:\n",
    "#             node[\"title\"] += \" Neighbors:<br>\" + \"<br>\".join(self.__pretty_string_neighbors(node, neighbor_map))\n",
    "#             node[\"value\"] = len(neighbor_map[node[\"id\"]])\n",
    "\n",
    "    def __get_num_of_files_with_neighbor(self, user, neighbor):\n",
    "        \"\"\"\n",
    "        Map function. Get number of common files with neighbor for user.\n",
    "        :param user: user login\n",
    "        :param neighbor: neighbor login\n",
    "        :return: tuple (neighbor login, number of common files with neighbor)\n",
    "        \"\"\"\n",
    "#         num_of_files = self.D[self.user_to_id[int(user.replace(\"file\", \"\"))], self.user_to_id[int(neighbor.replace(\"file\", \"\"))]]\n",
    "        return neighbor, self.D[int(neighbor)]\n",
    "\n",
    "    def __pretty_string_neighbors(self, node, neighbor_map):\n",
    "        \"\"\"\n",
    "        Create string for better visualization.\n",
    "        :param node: current node\n",
    "        :param neighbor_map: neighbors for each node\n",
    "        :return: string of neighbors and number of common files\n",
    "        \"\"\"\n",
    "        result = map(lambda neighbor: self.__get_num_of_files_with_neighbor(node[\"title\"], neighbor.replace(\"file\", \"\"))\n",
    "                     , neighbor_map[node[\"id\"]])\n",
    "        result = sorted(result, key=lambda x: x[1], reverse=True)\n",
    "        result = map(lambda x: f\"{x[0]} : {x[1]}\", result)\n",
    "        return result\n",
    "\n",
    "    def show(self):\n",
    "        self.net.show(f\"{work_dir}/{self.net.heading}.html\")\n",
    "\n",
    "    @staticmethod\n",
    "    def edge_color(weight, quantile1, quantile2, quantile3):\n",
    "        if weight <= quantile1:\n",
    "            return '#0569E1'\n",
    "        if weight <= quantile2:\n",
    "            return '#C1F823'\n",
    "        if weight <= quantile3:\n",
    "            return '#FCAA05'\n",
    "        return '#EE5503'"
   ]
  },
  {
   "cell_type": "code",
   "execution_count": 7,
   "metadata": {},
   "outputs": [
    {
     "name": "stdout",
     "output_type": "stream",
     "text": [
      "min=1, mean=1.0, max=1, shape=(1951942,)\n"
     ]
    }
   ],
   "source": [
    "mult = 100\n",
    "FDM_ = np.copy(FDM)\n",
    "FDM_[FDM_ < 20] = 0 \n",
    "FDM_[FDM_ >= 20] = 1\n",
    "print_(FDM_[FDM_ == 1])"
   ]
  },
  {
   "cell_type": "code",
   "execution_count": null,
   "metadata": {},
   "outputs": [
    {
     "name": "stdout",
     "output_type": "stream",
     "text": [
      "[1.0, 1.0, 1.0]\n"
     ]
    }
   ],
   "source": [
    "graph = GraphGaps(FDM_, AM_, mult)\n",
    "graph.show()"
   ]
  }
 ],
 "metadata": {
  "kernelspec": {
   "display_name": "Python 3",
   "language": "python",
   "name": "python3"
  },
  "language_info": {
   "codemirror_mode": {
    "name": "ipython",
    "version": 3
   },
   "file_extension": ".py",
   "mimetype": "text/x-python",
   "name": "python",
   "nbconvert_exporter": "python",
   "pygments_lexer": "ipython3",
   "version": "3.8.6"
  }
 },
 "nbformat": 4,
 "nbformat_minor": 4
}
